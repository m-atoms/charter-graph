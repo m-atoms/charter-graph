{
 "cells": [
  {
   "cell_type": "code",
   "execution_count": null,
   "metadata": {},
   "outputs": [],
   "source": [
    "# Load charter doc\n",
    "charter_file = \"sf_charter_04192024_simplified.txt\"\n",
    "with open(charter_file, \"r\", encoding=\"utf-8\") as infile:\n",
    "    charter_text = infile.read()"
   ]
  },
  {
   "cell_type": "code",
   "execution_count": null,
   "metadata": {},
   "outputs": [],
   "source": [
    "# NOTE: this is only partially correct\n",
    "# GPT4 couldn't get it together so I gave up on parsing preamble and just added it to the csv manually after parsing\n",
    "\n",
    "import re\n",
    "import csv\n",
    "\n",
    "# Define the function to parse the charter text file and write to CSV\n",
    "def parse_charter_to_csv(input_text, output_file):\n",
    "    # Define regex pattern for section splitting\n",
    "    section_pattern = r'(ARTICLE.*?|SEC\\..*?)(?=ARTICLE|SEC|\\Z)'\n",
    "    #section_pattern = r'(PREAMBLE|ARTICLE\\s[^SEC]*?|SEC\\..*?)(?=PREAMBLE|ARTICLE\\s[^SEC]|SEC|\\Z)'\n",
    "    \n",
    "    # Compile regex pattern\n",
    "    section_regex = re.compile(section_pattern, re.DOTALL)\n",
    "\n",
    "    # Find all sections\n",
    "    sections = section_regex.findall(input_text)\n",
    "\n",
    "    # Open the output CSV file in write mode\n",
    "    with open(output_file, \"w\", newline=\"\", encoding=\"utf-8\") as csvfile:\n",
    "        # Create a CSV writer object\n",
    "        csvwriter = csv.writer(csvfile)\n",
    "        \n",
    "        # Write header row\n",
    "        #csvwriter.writerow([\"Section Name\", \"Text\"])\n",
    "        \n",
    "        # Write sections to CSV\n",
    "        for section in sections:\n",
    "            # Split section into section name and text\n",
    "            section_name, *section_text = section.strip().split(\"\\n\")\n",
    "            section_text = \" \".join(section_text)\n",
    "            \n",
    "            # Write to CSV\n",
    "            csvwriter.writerow([section_name.strip(), section_text.strip()])\n",
    "\n",
    "# Call the function with the input and output filenames\n",
    "parse_charter_to_csv(charter_text, \"nodes.csv\")"
   ]
  }
 ],
 "metadata": {
  "kernelspec": {
   "display_name": "Python 3",
   "language": "python",
   "name": "python3"
  },
  "language_info": {
   "codemirror_mode": {
    "name": "ipython",
    "version": 3
   },
   "file_extension": ".py",
   "mimetype": "text/x-python",
   "name": "python",
   "nbconvert_exporter": "python",
   "pygments_lexer": "ipython3",
   "version": "3.10.12"
  }
 },
 "nbformat": 4,
 "nbformat_minor": 2
}
